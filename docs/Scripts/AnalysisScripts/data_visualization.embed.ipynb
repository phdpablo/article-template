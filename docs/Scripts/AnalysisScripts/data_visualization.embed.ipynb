{
  "cells": [
    {
      "cell_type": "markdown",
      "metadata": {},
      "source": [
        "# Data Visualization\n",
        "\n",
        "Pablo Rogers  \n",
        "2024-08-08\n",
        "\n",
        "This document provides an overview of data visualization techniques and\n",
        "tools applied in the ‘Article Template’ results example.\n",
        "\n",
        "The text below is intended to be an instructive example…\n",
        "\n",
        "It should be noted that you have the option to create a raw R script\n",
        "(`*.R`) and use `#` to indicate comments in order to record the goals\n",
        "and procedures of the analysis. On the other hand, we think that a\n",
        "single Quarto document accomplishes the same goal while also improving\n",
        "the organization and didactics of the analysis documentation.\n",
        "\n",
        "However, the best approach is to use dynamic documents like Quarto\n",
        "`.qmd` if you wish to adhere to the suggestion of keeping scripts and\n",
        "analyses separate and integrating just the outputs that are crucial to\n",
        "your story into the article’s content.\n",
        "\n",
        "As an illustration, you can write your script according to best\n",
        "practices, adding whatever is required to advance the narrative, but\n",
        "highlighting the text that will be included in the article in a\n",
        "different code chunk, as seen in the example below.\n",
        "\n",
        "## A code chunk used to construct example figure in the Results section"
      ],
      "id": "0dba97b2-9379-4aa5-b540-0a4818358ed6"
    },
    {
      "cell_type": "code",
      "execution_count": null,
      "metadata": {},
      "outputs": [
        {
          "output_type": "stream",
          "name": "stderr",
          "text": [
            "`geom_smooth()` using method = 'loess' and formula = 'y ~ x'"
          ]
        },
        {
          "output_type": "display_data",
          "metadata": {},
          "data": {
            "image/png": "[encoded data removed]"
          }
        }
      ],
      "source": [
        "#| label: fig-pressure\n",
        "#| fig-cap: \"Pressure\"\n",
        "#| code-fold: true\n",
        "\n",
        "library(ggplot2)\n",
        "dat <- data.frame(cond = rep(c(\"A\", \"B\"), each=10),\n",
        "                  xvar = 1:20 + rnorm(20,sd=3),\n",
        "                  yvar = 1:20 + rnorm(20,sd=3))\n",
        "\n",
        "ggplot(dat, aes(x=xvar, y=yvar)) +\n",
        "    geom_point(shape=1) + \n",
        "    geom_smooth() "
      ],
      "id": "cell-fig-pressure"
    },
    {
      "cell_type": "markdown",
      "metadata": {},
      "source": [
        "Keep in mind that the code chunk in this example needs to have all of\n",
        "the components necessary for it to exist, which in this case includes\n",
        "reading the `ggplot2` library. When producing more sophisticated\n",
        "outputs, the researcher may decide to just include the final result (the\n",
        "figure) in the article and provide information on how it was made in the\n",
        "accompanying script.\n",
        "\n",
        "## A code chunk used to construct example table in the Results section\n",
        "\n",
        "Here is another example of how we can embed a table into the text\n",
        "narrative with the `knitr::kable()` function to print tables as HTML:"
      ],
      "id": "1925c261-cd0d-4b5a-9372-62a5c1b7f6df"
    },
    {
      "cell_type": "code",
      "execution_count": null,
      "metadata": {},
      "outputs": [
        {
          "output_type": "display_data",
          "metadata": {},
          "data": {
            "text/markdown": [
              "  ----------------------------------------------------------------------------------\n",
              "    carat cut         color   clarity     depth   table   price      x      y      z\n",
              "  ------- ----------- ------- --------- ------- ------- ------- ------ ------ ------\n",
              "     0.23 Ideal       E       SI2          61.5      55     326   3.95   3.98   2.43\n",
              "\n",
              "     0.21 Premium     E       SI1          59.8      61     326   3.89   3.84   2.31\n",
              "\n",
              "     0.23 Good        E       VS1          56.9      65     327   4.05   4.07   2.31\n",
              "\n",
              "     0.29 Premium     I       VS2          62.4      58     334   4.20   4.23   2.63\n",
              "\n",
              "     0.31 Good        J       SI2          63.3      58     335   4.34   4.35   2.75\n",
              "\n",
              "     0.24 Very Good   J       VVS2         62.8      57     336   3.94   3.96   2.48\n",
              "  ----------------------------------------------------------------------------------\n"
            ]
          }
        }
      ],
      "source": [
        "#| label: tbl-diamonds\n",
        "#| tbl-cap: \"Diamonds characteristics\"\n",
        "#| code-fold: true\n",
        "\n",
        "knitr::kable(head(ggplot2::diamonds))"
      ],
      "id": "acdf3e95-a861-4078-a566-5cc0989f0c2c"
    },
    {
      "cell_type": "markdown",
      "metadata": {},
      "source": [
        "The outputs produced when rendering the document can be stored in both\n",
        "the Output/Results and root docs/folders.\n",
        "\n",
        "The researcher can then decide which outputs to include in the article\n",
        "and which to leave out. This is a great way to keep the article concise\n",
        "and focused on the most important results."
      ],
      "id": "f113d8bb-cbbb-48fd-ba99-a2dbeb5d7330"
    }
  ],
  "nbformat": 4,
  "nbformat_minor": 5,
  "metadata": {
    "kernelspec": {
      "display_name": "Python 3",
      "language": "python",
      "name": "python3"
    }
  }
}